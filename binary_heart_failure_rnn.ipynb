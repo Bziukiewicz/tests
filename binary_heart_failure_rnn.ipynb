{
  "nbformat": 4,
  "nbformat_minor": 0,
  "metadata": {
    "colab": {
      "provenance": [],
      "authorship_tag": "ABX9TyMOTbnNc/YZUCkbF4W/7LMT",
      "include_colab_link": true
    },
    "kernelspec": {
      "name": "python3",
      "display_name": "Python 3"
    },
    "language_info": {
      "name": "python"
    }
  },
  "cells": [
    {
      "cell_type": "markdown",
      "metadata": {
        "id": "view-in-github",
        "colab_type": "text"
      },
      "source": [
        "<a href=\"https://colab.research.google.com/github/Bziukiewicz/tests/blob/master/binary_heart_failure_rnn.ipynb\" target=\"_parent\"><img src=\"https://colab.research.google.com/assets/colab-badge.svg\" alt=\"Open In Colab\"/></a>"
      ]
    },
    {
      "cell_type": "code",
      "execution_count": 1,
      "metadata": {
        "id": "4t9P0qwBCU0H"
      },
      "outputs": [],
      "source": [
        "\n",
        "!pip install -q tensorflow"
      ]
    },
    {
      "cell_type": "code",
      "source": [
        "import pandas as pd\n",
        "import numpy as np\n",
        "import tensorflow as tf\n",
        "from tensorflow.keras.preprocessing.text import Tokenizer\n",
        "from tensorflow.keras.preprocessing.sequence import pad_sequences\n",
        "from tensorflow.keras.models import Sequential\n",
        "from tensorflow.keras.layers import Dense, Embedding, Flatten, Input, GRU, Lambda"
      ],
      "metadata": {
        "id": "JFF6OB3RC4jN"
      },
      "execution_count": 4,
      "outputs": []
    },
    {
      "cell_type": "code",
      "source": [
        "normal= pd.read_csv('/content/ptbdb_normal.csv')\n",
        "abnormal=pd.read_csv('/content/ptbdb_abnormal.csv')\n",
        "normal.columns= list(range(len(normal.columns)))\n",
        "abnormal.columns= list(range(len(abnormal.columns)))\n",
        "print(abnormal.shape)\n",
        "print(normal.shape)"
      ],
      "metadata": {
        "colab": {
          "base_uri": "https://localhost:8080/"
        },
        "id": "Ue0DcPx_C4gn",
        "outputId": "99da4608-51cd-4770-cade-8d2ca2410a7f"
      },
      "execution_count": 5,
      "outputs": [
        {
          "output_type": "stream",
          "name": "stdout",
          "text": [
            "(10505, 188)\n",
            "(4045, 188)\n"
          ]
        }
      ]
    },
    {
      "cell_type": "code",
      "source": [
        "all_data=pd.concat([normal, abnormal])\n"
      ],
      "metadata": {
        "id": "zT8iXZCbC4QQ"
      },
      "execution_count": 6,
      "outputs": []
    },
    {
      "cell_type": "code",
      "source": [
        "all_data.isnull().sum()"
      ],
      "metadata": {
        "colab": {
          "base_uri": "https://localhost:8080/"
        },
        "id": "UPGyc1zhFozk",
        "outputId": "4558b6ba-126e-4ade-b99c-9a2a222b4b1d"
      },
      "execution_count": 7,
      "outputs": [
        {
          "output_type": "execute_result",
          "data": {
            "text/plain": [
              "0      0\n",
              "1      0\n",
              "2      0\n",
              "3      0\n",
              "4      0\n",
              "      ..\n",
              "183    0\n",
              "184    0\n",
              "185    0\n",
              "186    0\n",
              "187    0\n",
              "Length: 188, dtype: int64"
            ]
          },
          "metadata": {},
          "execution_count": 7
        }
      ]
    },
    {
      "cell_type": "code",
      "source": [
        "data=all_data.copy()\n",
        "target = pd.DataFrame(data.pop(187))"
      ],
      "metadata": {
        "id": "JY0gkymSG2NN"
      },
      "execution_count": 8,
      "outputs": []
    },
    {
      "cell_type": "code",
      "source": [
        "\n",
        "from sklearn.model_selection import train_test_split\n",
        "\n",
        "X_train, X_test, y_train, y_test = train_test_split(data, target, random_state=42)"
      ],
      "metadata": {
        "id": "yPayQLFAHdvf"
      },
      "execution_count": 9,
      "outputs": []
    },
    {
      "cell_type": "code",
      "source": [
        "y_train.value_counts()\n",
        "X_train.shape"
      ],
      "metadata": {
        "colab": {
          "base_uri": "https://localhost:8080/"
        },
        "id": "mHFlLXelIbGH",
        "outputId": "98edc015-1af0-448f-a4bc-6c832c37992f"
      },
      "execution_count": 10,
      "outputs": [
        {
          "output_type": "execute_result",
          "data": {
            "text/plain": [
              "(10912, 187)"
            ]
          },
          "metadata": {},
          "execution_count": 10
        }
      ]
    },
    {
      "cell_type": "code",
      "source": [
        "y_test.value_counts()"
      ],
      "metadata": {
        "colab": {
          "base_uri": "https://localhost:8080/"
        },
        "id": "5e-sMI6VIbDP",
        "outputId": "071e7911-442a-4323-9be2-5aa7f29daccc"
      },
      "execution_count": 11,
      "outputs": [
        {
          "output_type": "execute_result",
          "data": {
            "text/plain": [
              "187\n",
              "1.0    2633\n",
              "0.0    1005\n",
              "Name: count, dtype: int64"
            ]
          },
          "metadata": {},
          "execution_count": 11
        }
      ]
    },
    {
      "cell_type": "code",
      "source": [
        "\n",
        "from tensorflow.keras.callbacks import EarlyStopping\n",
        "\n",
        "es = EarlyStopping(monitor='val_loss', mode='min', verbose=1, patience=4)\n"
      ],
      "metadata": {
        "id": "eoeQ2yxDLpQg"
      },
      "execution_count": 12,
      "outputs": []
    },
    {
      "cell_type": "code",
      "source": [
        "model = Sequential()\n",
        "model.add(Input(shape=[len(X_train.keys())]))\n",
        "model.add(Lambda(lambda x: tf.expand_dims(x, axis=-1)))\n",
        "model.add(GRU(128, return_sequences=True))\n",
        "model.add(Flatten())\n",
        "model.add(Dense(1, activation='sigmoid'))\n",
        "\n",
        "model.compile(optimizer='adam',\n",
        "            loss='binary_crossentropy',\n",
        "              metrics=['accuracy'])"
      ],
      "metadata": {
        "id": "zRRNkO48IbAY"
      },
      "execution_count": 13,
      "outputs": []
    },
    {
      "cell_type": "code",
      "source": [
        "history = model.fit(X_train, y_train, epochs=30, validation_split=0.2, batch_size=32, callbacks=[es])"
      ],
      "metadata": {
        "colab": {
          "base_uri": "https://localhost:8080/"
        },
        "id": "Uh_B1Z6MIa9g",
        "outputId": "772f34fa-f4fb-4872-91a3-ca223eaa1215"
      },
      "execution_count": 14,
      "outputs": [
        {
          "output_type": "stream",
          "name": "stdout",
          "text": [
            "Epoch 1/30\n",
            "\u001b[1m273/273\u001b[0m \u001b[32m━━━━━━━━━━━━━━━━━━━━\u001b[0m\u001b[37m\u001b[0m \u001b[1m55s\u001b[0m 193ms/step - accuracy: 0.7500 - loss: 0.5012 - val_accuracy: 0.7820 - val_loss: 0.4210\n",
            "Epoch 2/30\n",
            "\u001b[1m273/273\u001b[0m \u001b[32m━━━━━━━━━━━━━━━━━━━━\u001b[0m\u001b[37m\u001b[0m \u001b[1m54s\u001b[0m 199ms/step - accuracy: 0.7870 - loss: 0.4375 - val_accuracy: 0.8259 - val_loss: 0.3856\n",
            "Epoch 3/30\n",
            "\u001b[1m273/273\u001b[0m \u001b[32m━━━━━━━━━━━━━━━━━━━━\u001b[0m\u001b[37m\u001b[0m \u001b[1m84s\u001b[0m 208ms/step - accuracy: 0.8121 - loss: 0.3903 - val_accuracy: 0.8305 - val_loss: 0.3687\n",
            "Epoch 4/30\n",
            "\u001b[1m273/273\u001b[0m \u001b[32m━━━━━━━━━━━━━━━━━━━━\u001b[0m\u001b[37m\u001b[0m \u001b[1m79s\u001b[0m 198ms/step - accuracy: 0.8388 - loss: 0.3559 - val_accuracy: 0.8479 - val_loss: 0.3417\n",
            "Epoch 5/30\n",
            "\u001b[1m273/273\u001b[0m \u001b[32m━━━━━━━━━━━━━━━━━━━━\u001b[0m\u001b[37m\u001b[0m \u001b[1m83s\u001b[0m 202ms/step - accuracy: 0.8582 - loss: 0.3198 - val_accuracy: 0.8388 - val_loss: 0.3538\n",
            "Epoch 6/30\n",
            "\u001b[1m273/273\u001b[0m \u001b[32m━━━━━━━━━━━━━━━━━━━━\u001b[0m\u001b[37m\u001b[0m \u001b[1m79s\u001b[0m 191ms/step - accuracy: 0.8787 - loss: 0.2913 - val_accuracy: 0.8804 - val_loss: 0.2687\n",
            "Epoch 7/30\n",
            "\u001b[1m273/273\u001b[0m \u001b[32m━━━━━━━━━━━━━━━━━━━━\u001b[0m\u001b[37m\u001b[0m \u001b[1m83s\u001b[0m 194ms/step - accuracy: 0.8965 - loss: 0.2396 - val_accuracy: 0.8846 - val_loss: 0.2508\n",
            "Epoch 8/30\n",
            "\u001b[1m273/273\u001b[0m \u001b[32m━━━━━━━━━━━━━━━━━━━━\u001b[0m\u001b[37m\u001b[0m \u001b[1m85s\u001b[0m 204ms/step - accuracy: 0.8952 - loss: 0.2406 - val_accuracy: 0.9120 - val_loss: 0.2034\n",
            "Epoch 9/30\n",
            "\u001b[1m273/273\u001b[0m \u001b[32m━━━━━━━━━━━━━━━━━━━━\u001b[0m\u001b[37m\u001b[0m \u001b[1m51s\u001b[0m 187ms/step - accuracy: 0.9067 - loss: 0.2091 - val_accuracy: 0.9116 - val_loss: 0.2003\n",
            "Epoch 10/30\n",
            "\u001b[1m273/273\u001b[0m \u001b[32m━━━━━━━━━━━━━━━━━━━━\u001b[0m\u001b[37m\u001b[0m \u001b[1m85s\u001b[0m 199ms/step - accuracy: 0.9152 - loss: 0.2034 - val_accuracy: 0.9166 - val_loss: 0.1973\n",
            "Epoch 11/30\n",
            "\u001b[1m273/273\u001b[0m \u001b[32m━━━━━━━━━━━━━━━━━━━━\u001b[0m\u001b[37m\u001b[0m \u001b[1m52s\u001b[0m 190ms/step - accuracy: 0.9277 - loss: 0.1749 - val_accuracy: 0.9249 - val_loss: 0.1767\n",
            "Epoch 12/30\n",
            "\u001b[1m273/273\u001b[0m \u001b[32m━━━━━━━━━━━━━━━━━━━━\u001b[0m\u001b[37m\u001b[0m \u001b[1m84s\u001b[0m 198ms/step - accuracy: 0.9258 - loss: 0.1650 - val_accuracy: 0.9203 - val_loss: 0.1861\n",
            "Epoch 13/30\n",
            "\u001b[1m273/273\u001b[0m \u001b[32m━━━━━━━━━━━━━━━━━━━━\u001b[0m\u001b[37m\u001b[0m \u001b[1m53s\u001b[0m 196ms/step - accuracy: 0.9395 - loss: 0.1470 - val_accuracy: 0.9377 - val_loss: 0.1573\n",
            "Epoch 14/30\n",
            "\u001b[1m273/273\u001b[0m \u001b[32m━━━━━━━━━━━━━━━━━━━━\u001b[0m\u001b[37m\u001b[0m \u001b[1m82s\u001b[0m 195ms/step - accuracy: 0.9510 - loss: 0.1333 - val_accuracy: 0.9496 - val_loss: 0.1331\n",
            "Epoch 15/30\n",
            "\u001b[1m273/273\u001b[0m \u001b[32m━━━━━━━━━━━━━━━━━━━━\u001b[0m\u001b[37m\u001b[0m \u001b[1m81s\u001b[0m 193ms/step - accuracy: 0.9479 - loss: 0.1279 - val_accuracy: 0.9514 - val_loss: 0.1192\n",
            "Epoch 16/30\n",
            "\u001b[1m273/273\u001b[0m \u001b[32m━━━━━━━━━━━━━━━━━━━━\u001b[0m\u001b[37m\u001b[0m \u001b[1m52s\u001b[0m 191ms/step - accuracy: 0.9555 - loss: 0.1138 - val_accuracy: 0.9528 - val_loss: 0.1267\n",
            "Epoch 17/30\n",
            "\u001b[1m273/273\u001b[0m \u001b[32m━━━━━━━━━━━━━━━━━━━━\u001b[0m\u001b[37m\u001b[0m \u001b[1m54s\u001b[0m 197ms/step - accuracy: 0.9633 - loss: 0.1089 - val_accuracy: 0.9446 - val_loss: 0.1425\n",
            "Epoch 18/30\n",
            "\u001b[1m273/273\u001b[0m \u001b[32m━━━━━━━━━━━━━━━━━━━━\u001b[0m\u001b[37m\u001b[0m \u001b[1m97s\u001b[0m 254ms/step - accuracy: 0.9669 - loss: 0.0898 - val_accuracy: 0.9579 - val_loss: 0.1134\n",
            "Epoch 19/30\n",
            "\u001b[1m273/273\u001b[0m \u001b[32m━━━━━━━━━━━━━━━━━━━━\u001b[0m\u001b[37m\u001b[0m \u001b[1m73s\u001b[0m 221ms/step - accuracy: 0.9702 - loss: 0.0791 - val_accuracy: 0.9675 - val_loss: 0.0925\n",
            "Epoch 20/30\n",
            "\u001b[1m273/273\u001b[0m \u001b[32m━━━━━━━━━━━━━━━━━━━━\u001b[0m\u001b[37m\u001b[0m \u001b[1m53s\u001b[0m 194ms/step - accuracy: 0.9739 - loss: 0.0688 - val_accuracy: 0.9666 - val_loss: 0.1014\n",
            "Epoch 21/30\n",
            "\u001b[1m273/273\u001b[0m \u001b[32m━━━━━━━━━━━━━━━━━━━━\u001b[0m\u001b[37m\u001b[0m \u001b[1m83s\u001b[0m 199ms/step - accuracy: 0.9738 - loss: 0.0713 - val_accuracy: 0.9565 - val_loss: 0.1121\n",
            "Epoch 22/30\n",
            "\u001b[1m273/273\u001b[0m \u001b[32m━━━━━━━━━━━━━━━━━━━━\u001b[0m\u001b[37m\u001b[0m \u001b[1m82s\u001b[0m 199ms/step - accuracy: 0.9794 - loss: 0.0595 - val_accuracy: 0.9730 - val_loss: 0.0775\n",
            "Epoch 23/30\n",
            "\u001b[1m273/273\u001b[0m \u001b[32m━━━━━━━━━━━━━━━━━━━━\u001b[0m\u001b[37m\u001b[0m \u001b[1m53s\u001b[0m 195ms/step - accuracy: 0.9786 - loss: 0.0565 - val_accuracy: 0.9679 - val_loss: 0.1000\n",
            "Epoch 24/30\n",
            "\u001b[1m273/273\u001b[0m \u001b[32m━━━━━━━━━━━━━━━━━━━━\u001b[0m\u001b[37m\u001b[0m \u001b[1m81s\u001b[0m 191ms/step - accuracy: 0.9817 - loss: 0.0494 - val_accuracy: 0.9702 - val_loss: 0.0855\n",
            "Epoch 25/30\n",
            "\u001b[1m273/273\u001b[0m \u001b[32m━━━━━━━━━━━━━━━━━━━━\u001b[0m\u001b[37m\u001b[0m \u001b[1m83s\u001b[0m 196ms/step - accuracy: 0.9797 - loss: 0.0546 - val_accuracy: 0.9721 - val_loss: 0.0865\n",
            "Epoch 26/30\n",
            "\u001b[1m273/273\u001b[0m \u001b[32m━━━━━━━━━━━━━━━━━━━━\u001b[0m\u001b[37m\u001b[0m \u001b[1m80s\u001b[0m 189ms/step - accuracy: 0.9807 - loss: 0.0557 - val_accuracy: 0.9689 - val_loss: 0.0933\n",
            "Epoch 26: early stopping\n"
          ]
        }
      ]
    },
    {
      "cell_type": "code",
      "source": [
        "results=model.evaluate(X_test, y_test, verbose=0)\n",
        "print(f'Accuracy: {results[1]:.4f}')\n",
        "print(f'Loss: {results[0]:.4f}')"
      ],
      "metadata": {
        "colab": {
          "base_uri": "https://localhost:8080/"
        },
        "id": "sVS2nVFzIa6d",
        "outputId": "0313691c-0ad9-48b3-8ddd-1eb1ad186c5c"
      },
      "execution_count": 16,
      "outputs": [
        {
          "output_type": "stream",
          "name": "stdout",
          "text": [
            "Accuracy: 0.9733\n",
            "Loss: 0.0972\n"
          ]
        }
      ]
    },
    {
      "cell_type": "code",
      "source": [],
      "metadata": {
        "id": "Wo57qmN-Ur3S"
      },
      "execution_count": null,
      "outputs": []
    }
  ]
}